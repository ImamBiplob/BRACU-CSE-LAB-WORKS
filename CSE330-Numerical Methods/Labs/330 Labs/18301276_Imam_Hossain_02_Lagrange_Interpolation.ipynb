{
 "cells": [
  {
   "cell_type": "markdown",
   "metadata": {
    "id": "-H-_6qE4TzPX"
   },
   "source": [
    "Make sure you remove `raise NotImplementedError()` and fill in any place that says `# YOUR CODE HERE`, as well as your `NAME`, `ID`, and `SECTION` below:"
   ]
  },
  {
   "cell_type": "code",
   "execution_count": null,
   "metadata": {
    "id": "cZBZsJ7uTzPZ"
   },
   "outputs": [],
   "source": [
    "NAME = \"Imam Hossain\"\n",
    "ID = \"18301276\"\n",
    "SECTION = \"02\""
   ]
  },
  {
   "cell_type": "markdown",
   "metadata": {
    "id": "6jRU48H7TzPa"
   },
   "source": [
    "---"
   ]
  },
  {
   "cell_type": "markdown",
   "metadata": {
    "deletable": false,
    "editable": false,
    "id": "JUqq2ULKTzPb",
    "nbgrader": {
     "cell_type": "markdown",
     "checksum": "472ee35503d72c0c10415479acd0c38f",
     "grade": false,
     "grade_id": "title",
     "locked": true,
     "schema_version": 3,
     "solution": false,
     "task": false
    }
   },
   "source": [
    "# CSE330 Lab: Polynomial Interpolation using Lagrange Form\n",
    "---"
   ]
  },
  {
   "cell_type": "markdown",
   "metadata": {
    "deletable": false,
    "editable": false,
    "id": "tqv6INGMTzPb",
    "nbgrader": {
     "cell_type": "markdown",
     "checksum": "4a90b5ab8ffd9fe85f9eac720e5f3254",
     "grade": false,
     "grade_id": "intro1",
     "locked": true,
     "schema_version": 3,
     "solution": false,
     "task": false
    }
   },
   "source": [
    "### Importing necessary libraries"
   ]
  },
  {
   "cell_type": "code",
   "execution_count": 2,
   "metadata": {
    "deletable": false,
    "editable": false,
    "id": "BQv_kayFTzPb",
    "nbgrader": {
     "cell_type": "code",
     "checksum": "61b07e7eb90c9dd5d430e8e51f42846e",
     "grade": false,
     "grade_id": "import",
     "locked": true,
     "schema_version": 3,
     "solution": false,
     "task": false
    }
   },
   "outputs": [],
   "source": [
    "import numpy as np\n",
    "import matplotlib.pyplot as plt"
   ]
  },
  {
   "cell_type": "markdown",
   "metadata": {
    "deletable": false,
    "editable": false,
    "id": "D6j56_qsTzPc",
    "nbgrader": {
     "cell_type": "markdown",
     "checksum": "81f5a760fa7cea3e76a5396bc16a1c44",
     "grade": false,
     "grade_id": "intro2",
     "locked": true,
     "schema_version": 3,
     "solution": false,
     "task": false
    }
   },
   "source": [
    "### The Lagrange_Polynomial class\n",
    "General form of an $n$ degree Lagrange polynomial:\n",
    "\n",
    "\\begin{equation}\n",
    "p_n(x) = \\sum_{k=0}^{n} f(x_k)l_k(x) = \\sum_{k=0}^{n} y_kl_k(x),\\tag{1}\n",
    "\\end{equation}\n",
    "\n",
    "where\n",
    "\\begin{equation}\n",
    "l_k(x) = \\prod_{j=0, j\\neq k}^{n} \\frac{x-x_j}{x_k-x_j}. \\tag{2}\n",
    "\\end{equation}\n",
    "\n",
    "Note that the Lagrange method is more efficient than the matrix method because *we do not need to calculate any inverse matrices*.\n",
    "\n",
    "1. **The constructor `__init__(self, data_x, data_y)` is written for you.**\n",
    "    \n",
    "     * Here, we check whether the input vectors (numpy arrays) are equal or not. \n",
    "     * We store `data_x` and `data_y`\n",
    "     * We calculate and store the degree of the polynomial.\n",
    "$$\\$$\n",
    "\n",
    "2. **The `_repr__(self)` function has been written for you.**\n",
    "\n",
    "    * This is similar to the `toString()` method in Java. This returns a formatted string of the object whenever the object is printed.\n",
    "$$\\$$\n",
    "\n",
    "3. **You have to implement the `l(self, k, x)` function.**\n",
    "    * This function would take `k` and `x` as inputs and calculate the Lagrange basis using the Equation $(2)$.\n",
    "$$\\$$\n",
    "\n",
    "4. **You have to implement the `__call__(self, x_arr)` function.** \n",
    "    * This function makes an object of a class callable.\n",
    "    * The function calculates the lagrange polynomial from a set of given nodes. `self.data_x` and `self.data_y` contains the coordinates of the given nodes of the original function. Using Equation $(1)$, you have to use `self.data_x`, `self.data_y`, and the `l(k, x_k, x)` function to find the interpolated output of the polynomial for all elements of `x_arr`.\n",
    "`x_arr` is a numpy array containing points through which we want to plot our polynomial."
   ]
  },
  {
   "cell_type": "markdown",
   "metadata": {
    "id": "CX-BiVUXTzPd"
   },
   "source": [
    "---"
   ]
  },
  {
   "cell_type": "code",
   "execution_count": 10,
   "metadata": {
    "deletable": false,
    "id": "ATV3QRfpTzPd",
    "nbgrader": {
     "cell_type": "code",
     "checksum": "ee5fe25841a28719cac4c1675aa3b244",
     "grade": false,
     "grade_id": "lag_ans",
     "locked": false,
     "schema_version": 3,
     "solution": true,
     "task": false
    }
   },
   "outputs": [],
   "source": [
    "class Lagrange_Polynomial:\n",
    "    def __init__(self, data_x, data_y):\n",
    "        '''\n",
    "        First we need to check whether the input vectors (numpy arrays) are equal \n",
    "        or not. \n",
    "        assert (condition), \"msg\"\n",
    "        this command checks if the condition is true or false. If true, the code \n",
    "        runs normally. But if false, then the code returns an error message \"msg\"\n",
    "        and stops execution\n",
    "        '''\n",
    "        assert len(data_x) == len(data_y), \"length of data_x and data_y must be equal\"\n",
    "\n",
    "        '''\n",
    "        Lagrange polynomials do not use coefficeints a_i, rather the nodes \n",
    "        (x_i, y_i). Hence, we just need to store these inside the object\n",
    "        '''\n",
    "\n",
    "        self.data_x = data_x\n",
    "        self.data_y = data_y\n",
    "\n",
    "        self.degree = len(data_x) - 1\n",
    "        # we assume that the inputs are numpy array, so we can perform \n",
    "        # element wise operations\n",
    "\n",
    "    def __repr__(self):\n",
    "        # method for string representation\n",
    "        # you don't need to worry about the following code if you don't understand\n",
    "        strL = f\"LagrangePolynomial of order {self.degree}\\n\"\n",
    "        strL += \"p(x) = \"\n",
    "        for i in range(len(self.data_y)):\n",
    "            if self.data_y[i] == 0:\n",
    "                continue\n",
    "            elif self.data_y[i] >= 0:\n",
    "                strL += f\"+ {self.data_y[i]}*l_{i}(x) \"\n",
    "            else:\n",
    "                strL += f\"- {-self.data_y[i]}*l_{i}(x) \"\n",
    "\n",
    "        return strL\n",
    "  \n",
    "    def l(self, k, x):\n",
    "        '''\n",
    "        This metod implements the Lagrange Basis to be used for interpolation\n",
    "        using Lagrange Polynomials.\n",
    "        '''\n",
    "\n",
    "        l_k = 1.0 # Initialization\n",
    "        \n",
    "        l_k = np.prod(np.delete(x-self.data_x, k)) /  np.prod(np.delete(self.data_x[k] - self.data_x, k ))\n",
    "        # YOUR CODE HERE\n",
    "        #raise NotImplementedError()\n",
    "        # \n",
    "        # HINT FOR LOOP METHOD: Should look like\n",
    "        # x_k = self.data_x[k]\n",
    "        # for j in range(self.degree + 1):\n",
    "        #   l_k *= ?????\n",
    "        #\n",
    "        # HINT FOR VECTORIZED METHOD (no loops): \n",
    "        #   Google how to use np.prod and np.delete \n",
    "        \n",
    "        # --------------------------------------------\n",
    "        return l_k\n",
    "\n",
    "\n",
    "    def __call__(self, x_arr):\n",
    "        \"\"\"\n",
    "        The method to make the object callable (see the code of the matrix method).\n",
    "        'x_arr' is a set of given points (a numpy array). You have to use \n",
    "        self.data_x and self.data_y to find the interpolated output of the \n",
    "        polynomial for all elements of 'x_arr'.\n",
    "\n",
    "        Implement as you wish but your 'total' numpy array where the i'th element\n",
    "        p_x_arr[i] represents the interpolated value of p(x_arr[i]).\n",
    "        \"\"\"\n",
    "\n",
    "        # initialize with zero\n",
    "        p_x_arr  = np.zeros(len(x_arr))\n",
    "\n",
    "        # --------------------------------------------\n",
    "        # YOUR CODE HERE\n",
    "        #raise NotImplementedError()\n",
    "        # \n",
    "        # HINT: Should look like\n",
    "        for i, x in enumerate(x_arr):\n",
    "            for k in range(self.degree + 1):\n",
    "                #??????\n",
    "                p_x_arr[i] += self.data_y[k] * self.l(k, x)\n",
    "        # --------------------------------------------\n",
    "\n",
    "        return p_x_arr"
   ]
  },
  {
   "cell_type": "markdown",
   "metadata": {
    "deletable": false,
    "editable": false,
    "id": "n6dM75WXTzPe",
    "nbgrader": {
     "cell_type": "markdown",
     "checksum": "478a49eee2ad8430e336e36f9c3192a5",
     "grade": false,
     "grade_id": "cell-5e302a53e7d98109",
     "locked": true,
     "schema_version": 3,
     "solution": false,
     "task": false
    }
   },
   "source": [
    "### Calling the LagrangePolynomial object and plotting the polynomial."
   ]
  },
  {
   "cell_type": "markdown",
   "metadata": {
    "deletable": false,
    "editable": false,
    "id": "l0NtndljTzPf",
    "nbgrader": {
     "cell_type": "markdown",
     "checksum": "501f9a97334297861b6356643408c3a9",
     "grade": false,
     "grade_id": "plot",
     "locked": true,
     "schema_version": 3,
     "solution": false,
     "task": false
    }
   },
   "source": [
    "First we create a lagrange polynomial object `p` by calling `Lagrange_Polynomial(data_x, data_y)`. Then, we call the object as a function, which is possible because we had implemented the `__call__` function in the Lagrange_Polynomial class, and pass in `x_arr`. `x_arr` is 1D numpy array (a vector), which we created using linspace function and contains $x_i$, i.e., the points through which we want to plot our polynomial. Calling the object as a function and inputting `x_arr` returns the corresponding $y_i$ values and stores them in the `p_x_arr` numpy array.\n",
    "\n",
    "Finally, the polynomial is plotted by passing in `x_arr` and `p_x_arr` in plt.plot(), i.e., the $x_i$ and $y_i$ pairs.\n",
    "\n",
    "*Note that in the plot the given nodes will be marked in red.*"
   ]
  },
  {
   "cell_type": "code",
   "execution_count": 11,
   "metadata": {
    "id": "rhysBDi7TzPf"
   },
   "outputs": [
    {
     "name": "stdout",
     "output_type": "stream",
     "text": [
      "LagrangePolynomial of order 6\n",
      "p(x) = - 4.0*l_0(x) - 1.193*l_1(x) - 6.156*l_2(x) - 2.0*l_3(x) - 1.803*l_4(x) - 2.558*l_5(x) \n"
     ]
    },
    {
     "data": {
      "image/png": "[encoded data removed]",
      "text/plain": [
       "<Figure size 432x288 with 1 Axes>"
      ]
     },
     "metadata": {
      "needs_background": "light"
     },
     "output_type": "display_data"
    }
   ],
   "source": [
    "data_x = np.array([-2.55, -2.231, -1.152, 0.0, 0.198, 0.785, 1.189])\n",
    "data_y = np.array([-4.0, -1.193, -6.156, -2.0, -1.803, -2.558, 0.0])\n",
    "\n",
    "p = Lagrange_Polynomial(data_x, data_y)\n",
    "print(p)\n",
    "\n",
    "#generating 100 points from -3 to 4 in order to create a smooth line\n",
    "x_arr = np.linspace(-2.55, 1.189, 50)\n",
    "p_x_arr = p(x_arr)\n",
    "\n",
    "# plot to see if your implementation is correct\n",
    "#google the functions to understand what each parameters mean, if not apparent\n",
    "plt.plot(x_arr, p_x_arr)\n",
    "plt.plot(data_x, data_y, 'ro')\n",
    "plt.legend(['interpolated', 'node points'], loc = 'lower right')\n",
    "plt.xlabel('x')\n",
    "plt.ylabel('y')\n",
    "plt.title('Lagrange Polynomial')\n",
    "\n",
    "plt.show()\n"
   ]
  },
  {
   "cell_type": "code",
   "execution_count": null,
   "metadata": {},
   "outputs": [],
   "source": []
  }
 ],
 "metadata": {
  "colab": {
   "name": "18301276_Imam Hossain_02_Lagrange_Interpolation.ipynb",
   "provenance": []
  },
  "kernelspec": {
   "display_name": "Python 3 (ipykernel)",
   "language": "python",
   "name": "python3"
  },
  "language_info": {
   "codemirror_mode": {
    "name": "ipython",
    "version": 3
   },
   "file_extension": ".py",
   "mimetype": "text/x-python",
   "name": "python",
   "nbconvert_exporter": "python",
   "pygments_lexer": "ipython3",
   "version": "3.9.7"
  }
 },
 "nbformat": 4,
 "nbformat_minor": 1
}
