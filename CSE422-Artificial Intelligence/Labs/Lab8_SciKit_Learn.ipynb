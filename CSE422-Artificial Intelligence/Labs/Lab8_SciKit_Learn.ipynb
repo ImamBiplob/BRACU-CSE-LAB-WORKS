{
 "cells": [
  {
   "cell_type": "code",
   "execution_count": 4,
   "id": "735783dd",
   "metadata": {
    "colab": {
     "base_uri": "https://localhost:8080/",
     "height": 0
    },
    "executionInfo": {
     "elapsed": 1413,
     "status": "error",
     "timestamp": 1631451883360,
     "user": {
      "displayName": "Imam Hossain Biplob",
      "photoUrl": "https://lh3.googleusercontent.com/a-/AOh14GgmcbGDBviC03rvlnKkXOW_6Ek2YLtPdnfl-CLT=s64",
      "userId": "11014183330902011415"
     },
     "user_tz": -360
    },
    "id": "7828f36b",
    "outputId": "4ff45433-74ef-47ef-eb5a-b1cb1726b75c"
   },
   "outputs": [
    {
     "data": {
      "text/plain": [
       "<AxesSubplot:>"
      ]
     },
     "execution_count": 4,
     "metadata": {},
     "output_type": "execute_result"
    },
    {
     "data": {
      "image/png": "[encoded data removed]",
      "text/plain": [
       "<Figure size 432x288 with 1 Axes>"
      ]
     },
     "metadata": {
      "needs_background": "light"
     },
     "output_type": "display_data"
    }
   ],
   "source": [
    "import pandas as pd\n",
    "import numpy as np\n",
    "import sklearn\n",
    "\n",
    "\n",
    "\n",
    "heart_dis = pd.read_csv('heart disease classification dataset.csv')\n",
    "heart_dis.head()\n",
    "\n",
    "heart_dis.shape\n",
    "\n",
    "heart_dis.isnull().sum()\n",
    "\n",
    "heart_dis = heart_dis.drop(['Unnamed: 0'], axis =1)\n",
    "heart_dis.shape\n",
    "\n",
    "from sklearn.impute import SimpleImputer\n",
    "impute = SimpleImputer(missing_values = np.nan, strategy = 'mean')\n",
    "impute.fit(heart_dis[['trestbps']])\n",
    "heart_dis['trestbps'] = impute.transform(heart_dis[['trestbps']])\n",
    "\n",
    "from sklearn.impute import SimpleImputer\n",
    "impute = SimpleImputer(missing_values = np.nan, strategy = 'mean')\n",
    "impute.fit(heart_dis[['chol']])\n",
    "heart_dis['chol'] = impute.transform(heart_dis[['chol']])\n",
    "\n",
    "from sklearn.impute import SimpleImputer\n",
    "impute = SimpleImputer(missing_values = np.nan, strategy = 'mean')\n",
    "impute.fit(heart_dis[['thalach']])\n",
    "heart_dis['thalach'] = impute.transform(heart_dis[['thalach']])\n",
    "\n",
    "heart_dis.isnull().sum()\n",
    "\n",
    "heart_dis.head()\n",
    "\n",
    "heart_dis['sex'].unique()\n",
    "\n",
    "heart_dis['target'].unique()\n",
    "\n",
    "from sklearn.preprocessing import LabelEncoder\n",
    "encode = LabelEncoder()\n",
    "heart_dis['sex'] = encode.fit_transform(heart_dis['sex'])\n",
    "\n",
    "from sklearn.preprocessing import LabelEncoder\n",
    "encode = LabelEncoder()\n",
    "heart_dis['target'] = encode.fit_transform(heart_dis['target'])\n",
    "\n",
    "heart_dis.head()\n",
    "\n",
    "from sklearn.model_selection import train_test_split\n",
    "\n",
    "X = heart_dis.drop('target',axis = 1)\n",
    "y = heart_dis['target']\n",
    "\n",
    "X_train, X_test, y_train, y_test = train_test_split(X, y, test_size=0.2, random_state = 1)\n",
    "#X_train.shape\n",
    "#X_test.shape\n",
    "\n",
    "from sklearn.preprocessing import MinMaxScaler\n",
    "scaler = MinMaxScaler()\n",
    "scaler.fit(X_train)\n",
    "X_train = scaler.transform(X_train)\n",
    "X_train\n",
    "X_test = scaler.transform(X_test)\n",
    "X_test\n",
    "\n",
    "from sklearn.svm import SVC\n",
    "svc = SVC(kernel=\"linear\")\n",
    "svc.fit(X_train, y_train)\n",
    "beforeReductionSVM = svc.score(X_test, y_test)\n",
    "\n",
    "from sklearn.neural_network import MLPClassifier\n",
    "nnc=MLPClassifier(hidden_layer_sizes=(10), activation=\"relu\", max_iter=10000)\n",
    "nnc.fit(X_train, y_train)\n",
    "beforeReductionMLP = nnc.score(X_test, y_test)\n",
    "\n",
    "from sklearn.ensemble import RandomForestClassifier\n",
    "rfc = RandomForestClassifier(n_estimators=200)\n",
    "rfc.fit(X_train, y_train)\n",
    "beforeReductionRFC = rfc.score(X_test, y_test)\n",
    "\n",
    "from sklearn.decomposition import PCA \n",
    "pca = PCA(n_components=6)\n",
    "pca.fit(X_train)\n",
    "X_train = pca.transform(X_train)\n",
    "pca.fit(X_test)\n",
    "X_test = pca.transform(X_test)\n",
    "\n",
    "X_train.shape\n",
    "X_test.shape\n",
    "\n",
    "from sklearn.svm import SVC\n",
    "svc = SVC(kernel=\"linear\")\n",
    "svc.fit(X_train, y_train)\n",
    "afterReductionSVM = svc.score(X_test, y_test)\n",
    "\n",
    "from sklearn.neural_network import MLPClassifier\n",
    "nnc=MLPClassifier(hidden_layer_sizes=(10), activation=\"relu\", max_iter=10000)\n",
    "nnc.fit(X_train, y_train)\n",
    "afterReductionMLP = nnc.score(X_test, y_test)\n",
    "\n",
    "from sklearn.ensemble import RandomForestClassifier\n",
    "rfc = RandomForestClassifier(n_estimators=200)\n",
    "rfc.fit(X_train, y_train)\n",
    "afterReductionRFC = rfc.score(X_test, y_test)\n",
    "\n",
    "import seaborn as sn\n",
    "compare_data = {'x': ['before', 'before', 'before','after', 'after', 'after'], 'y': [beforeReductionSVM, beforeReductionMLP, beforeReductionRFC,afterReductionSVM, afterReductionMLP, afterReductionRFC], 'category': ['svm', 'mlp', 'rfc', 'svm', 'mlp', 'rfc']}\n",
    "sn.barplot(x='x', y='y', hue='category', data=compare_data)"
   ]
  },
  {
   "cell_type": "code",
   "execution_count": 31,
   "id": "72c33e46",
   "metadata": {},
   "outputs": [
    {
     "data": {
      "text/plain": [
       "<AxesSubplot:>"
      ]
     },
     "execution_count": 31,
     "metadata": {},
     "output_type": "execute_result"
    },
    {
     "data": {
      "image/png": "[encoded data removed]",
      "text/plain": [
       "<Figure size 432x288 with 1 Axes>"
      ]
     },
     "metadata": {
      "needs_background": "light"
     },
     "output_type": "display_data"
    }
   ],
   "source": []
  },
  {
   "cell_type": "code",
   "execution_count": null,
   "id": "f474b13a",
   "metadata": {},
   "outputs": [],
   "source": []
  }
 ],
 "metadata": {
  "colab": {
   "name": "lab5,6,7_to_Submit.ipynb",
   "provenance": []
  },
  "kernelspec": {
   "display_name": "Python 3 (ipykernel)",
   "language": "python",
   "name": "python3"
  },
  "language_info": {
   "codemirror_mode": {
    "name": "ipython",
    "version": 3
   },
   "file_extension": ".py",
   "mimetype": "text/x-python",
   "name": "python",
   "nbconvert_exporter": "python",
   "pygments_lexer": "ipython3",
   "version": "3.9.6"
  }
 },
 "nbformat": 4,
 "nbformat_minor": 5
}
